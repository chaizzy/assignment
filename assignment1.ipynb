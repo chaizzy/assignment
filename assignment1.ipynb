{
 "cells": [
  {
   "cell_type": "markdown",
   "id": "2a88ed02-905b-4c8e-90d3-5834878e586a",
   "metadata": {},
   "source": [
    "# ANS 1 :  \" Guido van Rossum \" developed python programming language"
   ]
  },
  {
   "cell_type": "markdown",
   "id": "11eb65e5-be10-4122-9b2e-312b410b0b72",
   "metadata": {},
   "source": [
    "# ANS 2 : python is a multi-paradigm programming language,  which includes :\n",
    "          # object-oriented  programming \n",
    "          # functional programming\n",
    "          # structured programming\n",
    "          # aspect- oriented programming   "
   ]
  },
  {
   "cell_type": "markdown",
   "id": "80745137-4b00-4c4f-9786-f8014bad3237",
   "metadata": {},
   "source": [
    "# ANS 3 : yes , python is case-sensitive  when dealing with identifiers ."
   ]
  },
  {
   "cell_type": "markdown",
   "id": "24902e3d-4eeb-4e92-a9ea-2c61924a22ae",
   "metadata": {},
   "source": [
    "# ANS 4 : .py is the correct extension of python file"
   ]
  },
  {
   "cell_type": "markdown",
   "id": "ada8c659-0e7d-4087-a39a-02adf28bf7ad",
   "metadata": {},
   "source": [
    "# ANS 5 : python is an interpreted language, where source code of a Python program is converted into bytecode that is then executed by the Python virtual machine"
   ]
  },
  {
   "cell_type": "markdown",
   "id": "70100e15-77b9-451e-88e5-58803789304d",
   "metadata": {
    "tags": []
   },
   "source": [
    "# ANS 6 : module , function body , class defination"
   ]
  },
  {
   "cell_type": "markdown",
   "id": "d01243b4-7bff-41c8-9ee2-d8c734949671",
   "metadata": {},
   "source": [
    "# ANS 7 : \" # \" is used to give single line comment in python"
   ]
  },
  {
   "cell_type": "markdown",
   "id": "26ba32a1-7dcc-4d36-8b39-2fe67628541c",
   "metadata": {},
   "source": [
    "# ANS 8 : the function is sys.version"
   ]
  },
  {
   "cell_type": "markdown",
   "id": "4f932de8-f950-4c01-b541-e3f6ea9d818a",
   "metadata": {},
   "source": [
    "# ANS 9 : using a construct called \"lambda\""
   ]
  },
  {
   "cell_type": "markdown",
   "id": "d6afba4e-8acd-410a-a9de-786e7d958728",
   "metadata": {},
   "source": [
    "# ANS 10 : PIP stands for \"Prefered installer program\" or pip innstall packages \n",
    "# is a tool for installing python packages  "
   ]
  },
  {
   "cell_type": "markdown",
   "id": "8d3f0248-85d3-4139-ad05-62e0b0327a49",
   "metadata": {},
   "source": [
    "# ANS 11 : print() , input() , type() , len() , sum()"
   ]
  },
  {
   "cell_type": "markdown",
   "id": "327a16cf-a9bc-40e7-8c64-0519c361b817",
   "metadata": {},
   "source": [
    "# ANS 12 :  79 characters "
   ]
  },
  {
   "cell_type": "markdown",
   "id": "6c4cbf1f-a681-47e8-aa28-bae1c4e8e24e",
   "metadata": {},
   "source": [
    "# ANS 13 : easy to read and write , flexible , user friendly data structures , portable and interactive "
   ]
  },
  {
   "cell_type": "markdown",
   "id": "7a880f3d-1b05-42e5-af8e-aaa3ad86ccf8",
   "metadata": {},
   "source": [
    "# ANS 14 : Memory management in Python involves a private heap containing all Python objects and data structures. The management of this private heap is ensured internally by the Python memory manager."
   ]
  },
  {
   "cell_type": "markdown",
   "id": "55c38013-c0e9-4a0f-b89a-046edbf8e540",
   "metadata": {},
   "source": [
    "# ANS 15 : we can download python from python.org\n",
    "# and then we have to copy the path (in c-drive )\n",
    "# Clicking on the Advanced system settings in the menu on the left.\n",
    "# Clicking on the Environment Variables button on the bottom right.\n",
    "# In the System variables section, selecting the Path variable and clicking on Edit.\n",
    "# then click on apply "
   ]
  },
  {
   "cell_type": "markdown",
   "id": "ed67471f-0c96-40ec-9279-34c06929858f",
   "metadata": {},
   "source": [
    "# ANS 16 : "
   ]
  }
 ],
 "metadata": {
  "kernelspec": {
   "display_name": "Python 3 (ipykernel)",
   "language": "python",
   "name": "python3"
  },
  "language_info": {
   "codemirror_mode": {
    "name": "ipython",
    "version": 3
   },
   "file_extension": ".py",
   "mimetype": "text/x-python",
   "name": "python",
   "nbconvert_exporter": "python",
   "pygments_lexer": "ipython3",
   "version": "3.10.8"
  }
 },
 "nbformat": 4,
 "nbformat_minor": 5
}
